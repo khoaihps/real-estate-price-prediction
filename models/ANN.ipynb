{
 "cells": [
  {
   "cell_type": "code",
   "execution_count": 49,
   "metadata": {},
   "outputs": [],
   "source": [
    "import tensorflow as tf\n",
    "import keras\n",
    "from sklearn.preprocessing import StandardScaler\n",
    "from sklearn.metrics import mean_absolute_error, mean_squared_error, r2_score, mean_absolute_percentage_error\n",
    "from sklearn.model_selection import train_test_split\n",
    "import pandas as pd"
   ]
  },
  {
   "cell_type": "code",
   "execution_count": 50,
   "metadata": {},
   "outputs": [],
   "source": [
    "df = pd.read_csv('../cleaning/output/processed_data.tsv', sep='\\t')\n",
    "\n",
    "X = df.drop(['Mức giá', 'Tên'], axis=1)\n",
    "y = df['Mức giá']\n",
    "\n",
    "X_train, X_test, y_train, y_test = train_test_split(X, y, test_size=0.2, random_state=42)"
   ]
  },
  {
   "cell_type": "code",
   "execution_count": 51,
   "metadata": {},
   "outputs": [],
   "source": [
    "scaler = StandardScaler()\n",
    "X_train_scaled = scaler.fit_transform(X_train)\n",
    "X_test_scaled = scaler.transform(X_test)"
   ]
  },
  {
   "cell_type": "code",
   "execution_count": 52,
   "metadata": {},
   "outputs": [],
   "source": [
    "model = keras.Sequential([\n",
    "    keras.layers.Dense(256, activation='relu', input_shape=(X_train_scaled.shape[1],)),\n",
    "    keras.layers.Dropout(0.2),\n",
    "    keras.layers.Dense(128, activation='relu'),\n",
    "    keras.layers.Dense(64, activation='relu'),\n",
    "    keras.layers.Dense(1)\n",
    "])"
   ]
  },
  {
   "cell_type": "code",
   "execution_count": 53,
   "metadata": {},
   "outputs": [
    {
     "name": "stdout",
     "output_type": "stream",
     "text": [
      "Epoch 1/200\n",
      "614/614 [==============================] - 2s 3ms/step - loss: 14.4643 - val_loss: 9.8520\n",
      "Epoch 2/200\n",
      "614/614 [==============================] - 1s 2ms/step - loss: 9.6194 - val_loss: 9.4735\n",
      "Epoch 3/200\n",
      "614/614 [==============================] - 1s 2ms/step - loss: 9.4748 - val_loss: 9.0160\n",
      "Epoch 4/200\n",
      "614/614 [==============================] - 1s 2ms/step - loss: 9.1190 - val_loss: 8.8005\n",
      "Epoch 5/200\n",
      "614/614 [==============================] - 1s 2ms/step - loss: 8.7876 - val_loss: 8.5838\n",
      "Epoch 6/200\n",
      "614/614 [==============================] - 1s 2ms/step - loss: 8.3467 - val_loss: 8.2797\n",
      "Epoch 7/200\n",
      "614/614 [==============================] - 1s 2ms/step - loss: 8.0331 - val_loss: 8.1215\n",
      "Epoch 8/200\n",
      "614/614 [==============================] - 1s 2ms/step - loss: 8.0430 - val_loss: 8.0617\n",
      "Epoch 9/200\n",
      "614/614 [==============================] - 1s 2ms/step - loss: 7.8999 - val_loss: 8.1685\n",
      "Epoch 10/200\n",
      "614/614 [==============================] - 1s 2ms/step - loss: 7.7163 - val_loss: 7.7039\n",
      "Epoch 11/200\n",
      "614/614 [==============================] - 1s 2ms/step - loss: 7.8776 - val_loss: 7.6547\n",
      "Epoch 12/200\n",
      "614/614 [==============================] - 2s 3ms/step - loss: 7.6153 - val_loss: 7.8014\n",
      "Epoch 13/200\n",
      "614/614 [==============================] - 1s 2ms/step - loss: 7.6587 - val_loss: 7.8639\n",
      "Epoch 14/200\n",
      "614/614 [==============================] - 1s 2ms/step - loss: 7.7152 - val_loss: 7.5684\n",
      "Epoch 15/200\n",
      "614/614 [==============================] - 1s 2ms/step - loss: 7.4575 - val_loss: 7.7099\n",
      "Epoch 16/200\n",
      "614/614 [==============================] - 1s 2ms/step - loss: 7.3949 - val_loss: 7.4655\n",
      "Epoch 17/200\n",
      "614/614 [==============================] - 1s 2ms/step - loss: 7.3551 - val_loss: 8.4669\n",
      "Epoch 18/200\n",
      "614/614 [==============================] - 1s 2ms/step - loss: 7.3190 - val_loss: 7.4677\n",
      "Epoch 19/200\n",
      "614/614 [==============================] - 2s 2ms/step - loss: 7.2917 - val_loss: 7.4726\n",
      "Epoch 20/200\n",
      "614/614 [==============================] - 1s 2ms/step - loss: 7.2555 - val_loss: 7.4825\n",
      "Epoch 21/200\n",
      "614/614 [==============================] - 1s 2ms/step - loss: 7.1419 - val_loss: 7.5433\n",
      "Epoch 22/200\n",
      "614/614 [==============================] - 1s 2ms/step - loss: 7.1204 - val_loss: 7.7394\n",
      "Epoch 23/200\n",
      "614/614 [==============================] - 1s 2ms/step - loss: 7.1029 - val_loss: 7.2845\n",
      "Epoch 24/200\n",
      "614/614 [==============================] - 1s 2ms/step - loss: 7.0621 - val_loss: 7.6172\n",
      "Epoch 25/200\n",
      "614/614 [==============================] - 1s 2ms/step - loss: 7.0271 - val_loss: 7.7869\n",
      "Epoch 26/200\n",
      "614/614 [==============================] - 1s 2ms/step - loss: 6.9087 - val_loss: 7.2473\n",
      "Epoch 27/200\n",
      "614/614 [==============================] - 1s 2ms/step - loss: 6.9970 - val_loss: 7.3780\n",
      "Epoch 28/200\n",
      "614/614 [==============================] - 1s 2ms/step - loss: 6.8952 - val_loss: 7.3036\n",
      "Epoch 29/200\n",
      "614/614 [==============================] - 1s 2ms/step - loss: 6.8496 - val_loss: 7.5391\n",
      "Epoch 30/200\n",
      "614/614 [==============================] - 1s 2ms/step - loss: 6.8103 - val_loss: 7.3015\n",
      "Epoch 31/200\n",
      "614/614 [==============================] - 1s 2ms/step - loss: 6.8428 - val_loss: 7.3200\n",
      "Epoch 32/200\n",
      "614/614 [==============================] - 1s 2ms/step - loss: 6.7842 - val_loss: 7.2846\n",
      "Epoch 33/200\n",
      "614/614 [==============================] - 1s 2ms/step - loss: 6.7942 - val_loss: 7.1417\n",
      "Epoch 34/200\n",
      "614/614 [==============================] - 1s 2ms/step - loss: 6.6944 - val_loss: 7.3688\n",
      "Epoch 35/200\n",
      "614/614 [==============================] - 1s 2ms/step - loss: 6.6954 - val_loss: 7.3063\n",
      "Epoch 36/200\n",
      "614/614 [==============================] - 1s 2ms/step - loss: 6.6914 - val_loss: 7.2689\n",
      "Epoch 37/200\n",
      "614/614 [==============================] - 1s 2ms/step - loss: 6.6750 - val_loss: 7.3915\n",
      "Epoch 38/200\n",
      "614/614 [==============================] - 1s 2ms/step - loss: 6.6225 - val_loss: 7.3010\n",
      "Epoch 39/200\n",
      "614/614 [==============================] - 1s 2ms/step - loss: 6.5307 - val_loss: 7.1809\n",
      "Epoch 40/200\n",
      "614/614 [==============================] - 1s 2ms/step - loss: 6.5988 - val_loss: 7.2348\n",
      "Epoch 41/200\n",
      "614/614 [==============================] - 1s 2ms/step - loss: 6.6230 - val_loss: 7.2419\n",
      "Epoch 42/200\n",
      "614/614 [==============================] - 1s 2ms/step - loss: 6.5357 - val_loss: 7.3104\n",
      "Epoch 43/200\n",
      "614/614 [==============================] - 1s 2ms/step - loss: 6.4527 - val_loss: 7.0931\n",
      "Epoch 44/200\n",
      "614/614 [==============================] - 1s 2ms/step - loss: 6.4508 - val_loss: 7.1078\n",
      "Epoch 45/200\n",
      "614/614 [==============================] - 1s 2ms/step - loss: 6.4713 - val_loss: 7.0102\n",
      "Epoch 46/200\n",
      "614/614 [==============================] - 1s 2ms/step - loss: 6.4775 - val_loss: 7.0586\n",
      "Epoch 47/200\n",
      "614/614 [==============================] - 1s 2ms/step - loss: 6.4662 - val_loss: 7.1230\n",
      "Epoch 48/200\n",
      "614/614 [==============================] - 1s 2ms/step - loss: 6.4149 - val_loss: 7.3534\n",
      "Epoch 49/200\n",
      "614/614 [==============================] - 1s 2ms/step - loss: 6.4633 - val_loss: 7.0572\n",
      "Epoch 50/200\n",
      "614/614 [==============================] - 1s 2ms/step - loss: 6.3662 - val_loss: 7.4054\n",
      "Epoch 51/200\n",
      "614/614 [==============================] - 1s 2ms/step - loss: 6.3422 - val_loss: 7.1549\n",
      "Epoch 52/200\n",
      "614/614 [==============================] - 2s 3ms/step - loss: 6.2510 - val_loss: 6.9489\n",
      "Epoch 53/200\n",
      "614/614 [==============================] - 1s 2ms/step - loss: 6.2704 - val_loss: 7.2923\n",
      "Epoch 54/200\n",
      "614/614 [==============================] - 1s 2ms/step - loss: 6.2625 - val_loss: 7.1163\n",
      "Epoch 55/200\n",
      "614/614 [==============================] - 1s 2ms/step - loss: 6.2203 - val_loss: 7.1193\n",
      "Epoch 56/200\n",
      "614/614 [==============================] - 1s 2ms/step - loss: 6.2111 - val_loss: 7.2282\n",
      "Epoch 57/200\n",
      "614/614 [==============================] - 1s 2ms/step - loss: 6.1671 - val_loss: 7.1322\n",
      "Epoch 58/200\n",
      "614/614 [==============================] - 1s 2ms/step - loss: 6.1259 - val_loss: 7.0978\n",
      "Epoch 59/200\n",
      "614/614 [==============================] - 1s 2ms/step - loss: 6.1743 - val_loss: 7.0127\n",
      "Epoch 60/200\n",
      "614/614 [==============================] - 1s 2ms/step - loss: 6.1575 - val_loss: 7.1216\n",
      "Epoch 61/200\n",
      "614/614 [==============================] - 1s 2ms/step - loss: 6.1195 - val_loss: 7.2577\n",
      "Epoch 62/200\n",
      "614/614 [==============================] - 1s 2ms/step - loss: 6.1023 - val_loss: 6.9921\n"
     ]
    },
    {
     "data": {
      "text/plain": [
       "<keras.src.callbacks.History at 0x1fbcf62ef20>"
      ]
     },
     "execution_count": 53,
     "metadata": {},
     "output_type": "execute_result"
    }
   ],
   "source": [
    "model.compile(optimizer='adam', loss='mean_squared_error')\n",
    "model.fit(X_train_scaled, y_train, epochs=200, batch_size=32, verbose=1, validation_split=0.1, callbacks=[keras.callbacks.EarlyStopping(patience=10)])"
   ]
  },
  {
   "cell_type": "code",
   "execution_count": 54,
   "metadata": {},
   "outputs": [
    {
     "name": "stdout",
     "output_type": "stream",
     "text": [
      "171/171 [==============================] - 0s 1ms/step\n"
     ]
    }
   ],
   "source": [
    "y_pred = model.predict(X_test_scaled)\n",
    "mae = mean_absolute_error(y_test, y_pred)\n",
    "mse = mean_squared_error(y_test, y_pred)\n",
    "rmse = mean_squared_error(y_test, y_pred, squared=False)\n",
    "r2 = r2_score(y_test, y_pred)\n",
    "mape = mean_absolute_percentage_error(y_test, y_pred)"
   ]
  },
  {
   "cell_type": "code",
   "execution_count": 55,
   "metadata": {},
   "outputs": [
    {
     "name": "stdout",
     "output_type": "stream",
     "text": [
      "Mean Absolute Error: 1.5789550516448356\n",
      "Mean Squared Error: 6.8466962213071705\n",
      "Root Mean Squared Error: 2.616619235064049\n",
      "R-squared: 0.7147123908362789\n",
      "Mean Absolute Percentage Error (MAPE): 0.5235703893425707\n"
     ]
    }
   ],
   "source": [
    "print(f'Mean Absolute Error: {mae}')\n",
    "print(f'Mean Squared Error: {mse}')\n",
    "print(f'Root Mean Squared Error: {rmse}')\n",
    "print(f'R-squared: {r2}')\n",
    "print(f'Mean Absolute Percentage Error (MAPE): {mape}')"
   ]
  },
  {
   "cell_type": "code",
   "execution_count": 56,
   "metadata": {},
   "outputs": [
    {
     "name": "stdout",
     "output_type": "stream",
     "text": [
      "INFO:tensorflow:Assets written to: checkpoint/ANN.model\\assets\n"
     ]
    },
    {
     "name": "stderr",
     "output_type": "stream",
     "text": [
      "INFO:tensorflow:Assets written to: checkpoint/ANN.model\\assets\n"
     ]
    }
   ],
   "source": [
    "model.save('checkpoint/ANN.model')\n",
    "model = keras.models.load_model('checkpoint/ANN.model')"
   ]
  }
 ],
 "metadata": {
  "kernelspec": {
   "display_name": "Python 3",
   "language": "python",
   "name": "python3"
  },
  "language_info": {
   "codemirror_mode": {
    "name": "ipython",
    "version": 3
   },
   "file_extension": ".py",
   "mimetype": "text/x-python",
   "name": "python",
   "nbconvert_exporter": "python",
   "pygments_lexer": "ipython3",
   "version": "3.10.4"
  }
 },
 "nbformat": 4,
 "nbformat_minor": 2
}
