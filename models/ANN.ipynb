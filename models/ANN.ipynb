{
 "cells": [
  {
   "cell_type": "code",
   "execution_count": 25,
   "metadata": {},
   "outputs": [],
   "source": [
    "import tensorflow as tf\n",
    "import keras\n",
    "from sklearn.preprocessing import StandardScaler\n",
    "from sklearn.metrics import mean_absolute_error, mean_squared_error, r2_score, mean_absolute_percentage_error\n",
    "from sklearn.model_selection import train_test_split\n",
    "import pandas as pd"
   ]
  },
  {
   "cell_type": "code",
   "execution_count": 26,
   "metadata": {},
   "outputs": [],
   "source": [
    "df = pd.read_csv('../cleaning/output/processed_data.tsv', sep='\\t')\n",
    "\n",
    "X = df.drop(['Mức giá', 'Tên', 'Quận', 'Thành phố'], axis=1)\n",
    "y = df['Mức giá']\n",
    "\n",
    "X_train, X_test, y_train, y_test = train_test_split(X, y, test_size=0.2, random_state=128)"
   ]
  },
  {
   "cell_type": "code",
   "execution_count": 27,
   "metadata": {},
   "outputs": [],
   "source": [
    "scaler = StandardScaler()\n",
    "X_train_scaled = scaler.fit_transform(X_train)\n",
    "X_test_scaled = scaler.transform(X_test)"
   ]
  },
  {
   "cell_type": "code",
   "execution_count": 28,
   "metadata": {},
   "outputs": [],
   "source": [
    "model = keras.Sequential([\n",
    "    keras.layers.Dense(256, activation='relu', input_shape=(X_train_scaled.shape[1],)),\n",
    "    keras.layers.Dropout(0.2),\n",
    "    keras.layers.Dense(128, activation='relu'),\n",
    "    keras.layers.Dense(64, activation='relu'),\n",
    "    keras.layers.Dense(1)\n",
    "])"
   ]
  },
  {
   "cell_type": "code",
   "execution_count": 29,
   "metadata": {},
   "outputs": [
    {
     "name": "stdout",
     "output_type": "stream",
     "text": [
      "Epoch 1/200\n",
      "756/756 [==============================] - 3s 2ms/step - loss: 17.6119 - val_loss: 11.6210\n",
      "Epoch 2/200\n",
      "756/756 [==============================] - 2s 2ms/step - loss: 12.9676 - val_loss: 11.4102\n",
      "Epoch 3/200\n",
      "756/756 [==============================] - 2s 2ms/step - loss: 12.3531 - val_loss: 10.9631\n",
      "Epoch 4/200\n",
      "756/756 [==============================] - 2s 2ms/step - loss: 11.9333 - val_loss: 10.8180\n",
      "Epoch 5/200\n",
      "756/756 [==============================] - 2s 2ms/step - loss: 11.5875 - val_loss: 10.4287\n",
      "Epoch 6/200\n",
      "756/756 [==============================] - 2s 2ms/step - loss: 11.2961 - val_loss: 10.1774\n",
      "Epoch 7/200\n",
      "756/756 [==============================] - 2s 2ms/step - loss: 11.2357 - val_loss: 10.1370\n",
      "Epoch 8/200\n",
      "756/756 [==============================] - 2s 2ms/step - loss: 10.9574 - val_loss: 9.9299\n",
      "Epoch 9/200\n",
      "756/756 [==============================] - 2s 2ms/step - loss: 10.8605 - val_loss: 9.9458\n",
      "Epoch 10/200\n",
      "756/756 [==============================] - 2s 2ms/step - loss: 10.8020 - val_loss: 9.7955\n",
      "Epoch 11/200\n",
      "756/756 [==============================] - 2s 2ms/step - loss: 10.6622 - val_loss: 10.2051\n",
      "Epoch 12/200\n",
      "756/756 [==============================] - 2s 2ms/step - loss: 10.6389 - val_loss: 9.9824\n",
      "Epoch 13/200\n",
      "756/756 [==============================] - 2s 2ms/step - loss: 10.4490 - val_loss: 9.9334\n",
      "Epoch 14/200\n",
      "756/756 [==============================] - 2s 2ms/step - loss: 10.3533 - val_loss: 9.8014\n",
      "Epoch 15/200\n",
      "756/756 [==============================] - 2s 2ms/step - loss: 10.3887 - val_loss: 9.6542\n",
      "Epoch 16/200\n",
      "756/756 [==============================] - 2s 2ms/step - loss: 10.3341 - val_loss: 10.2408\n",
      "Epoch 17/200\n",
      "756/756 [==============================] - 1s 2ms/step - loss: 10.3053 - val_loss: 9.8638\n",
      "Epoch 18/200\n",
      "756/756 [==============================] - 1s 2ms/step - loss: 10.1070 - val_loss: 10.0720\n",
      "Epoch 19/200\n",
      "756/756 [==============================] - 2s 2ms/step - loss: 10.0215 - val_loss: 9.6585\n",
      "Epoch 20/200\n",
      "756/756 [==============================] - 2s 2ms/step - loss: 10.0183 - val_loss: 9.5115\n",
      "Epoch 21/200\n",
      "756/756 [==============================] - 2s 2ms/step - loss: 10.0408 - val_loss: 9.6561\n",
      "Epoch 22/200\n",
      "756/756 [==============================] - 2s 2ms/step - loss: 10.0371 - val_loss: 9.3431\n",
      "Epoch 23/200\n",
      "756/756 [==============================] - 2s 2ms/step - loss: 9.9059 - val_loss: 9.6665\n",
      "Epoch 24/200\n",
      "756/756 [==============================] - 2s 2ms/step - loss: 9.9566 - val_loss: 9.4957\n",
      "Epoch 25/200\n",
      "756/756 [==============================] - 2s 2ms/step - loss: 9.8370 - val_loss: 9.7457\n",
      "Epoch 26/200\n",
      "756/756 [==============================] - 2s 2ms/step - loss: 9.7569 - val_loss: 9.4352\n",
      "Epoch 27/200\n",
      "756/756 [==============================] - 2s 2ms/step - loss: 9.7208 - val_loss: 9.2999\n",
      "Epoch 28/200\n",
      "756/756 [==============================] - 2s 2ms/step - loss: 9.6166 - val_loss: 9.3093\n",
      "Epoch 29/200\n",
      "756/756 [==============================] - 2s 2ms/step - loss: 9.6066 - val_loss: 9.3162\n",
      "Epoch 30/200\n",
      "756/756 [==============================] - 2s 2ms/step - loss: 9.6597 - val_loss: 9.2238\n",
      "Epoch 31/200\n",
      "756/756 [==============================] - 2s 2ms/step - loss: 9.4967 - val_loss: 9.2185\n",
      "Epoch 32/200\n",
      "756/756 [==============================] - 2s 2ms/step - loss: 9.5312 - val_loss: 9.3524\n",
      "Epoch 33/200\n",
      "756/756 [==============================] - 2s 2ms/step - loss: 9.4651 - val_loss: 9.3155\n",
      "Epoch 34/200\n",
      "756/756 [==============================] - 2s 2ms/step - loss: 9.3898 - val_loss: 9.3207\n",
      "Epoch 35/200\n",
      "756/756 [==============================] - 2s 2ms/step - loss: 9.4665 - val_loss: 9.4255\n",
      "Epoch 36/200\n",
      "756/756 [==============================] - 2s 2ms/step - loss: 9.3820 - val_loss: 9.1785\n",
      "Epoch 37/200\n",
      "756/756 [==============================] - 2s 2ms/step - loss: 9.3619 - val_loss: 9.7627\n",
      "Epoch 38/200\n",
      "756/756 [==============================] - 2s 2ms/step - loss: 9.3846 - val_loss: 9.2441\n",
      "Epoch 39/200\n",
      "756/756 [==============================] - 2s 2ms/step - loss: 9.2961 - val_loss: 9.2455\n",
      "Epoch 40/200\n",
      "756/756 [==============================] - 2s 2ms/step - loss: 9.3047 - val_loss: 9.3701\n",
      "Epoch 41/200\n",
      "756/756 [==============================] - 2s 2ms/step - loss: 9.3385 - val_loss: 9.3631\n",
      "Epoch 42/200\n",
      "756/756 [==============================] - 2s 2ms/step - loss: 9.2175 - val_loss: 9.1956\n",
      "Epoch 43/200\n",
      "756/756 [==============================] - 2s 2ms/step - loss: 9.1250 - val_loss: 9.2912\n",
      "Epoch 44/200\n",
      "756/756 [==============================] - 2s 2ms/step - loss: 9.1353 - val_loss: 9.3425\n",
      "Epoch 45/200\n",
      "756/756 [==============================] - 2s 2ms/step - loss: 9.1025 - val_loss: 9.1977\n",
      "Epoch 46/200\n",
      "756/756 [==============================] - 2s 2ms/step - loss: 9.1323 - val_loss: 9.3199\n"
     ]
    },
    {
     "data": {
      "text/plain": [
       "<keras.src.callbacks.History at 0x2a276688d00>"
      ]
     },
     "execution_count": 29,
     "metadata": {},
     "output_type": "execute_result"
    }
   ],
   "source": [
    "model.compile(optimizer='adam', loss='mean_squared_error')\n",
    "model.fit(X_train_scaled, y_train, epochs=200, batch_size=32, verbose=1, validation_split=0.1, callbacks=[keras.callbacks.EarlyStopping(patience=10)])"
   ]
  },
  {
   "cell_type": "code",
   "execution_count": 30,
   "metadata": {},
   "outputs": [
    {
     "name": "stdout",
     "output_type": "stream",
     "text": [
      "210/210 [==============================] - 0s 1ms/step\n"
     ]
    }
   ],
   "source": [
    "y_pred = model.predict(X_test_scaled)\n",
    "mae = mean_absolute_error(y_test, y_pred)\n",
    "r2 = r2_score(y_test, y_pred)\n",
    "mape = mean_absolute_percentage_error(y_test, y_pred)"
   ]
  },
  {
   "cell_type": "code",
   "execution_count": 31,
   "metadata": {},
   "outputs": [
    {
     "name": "stdout",
     "output_type": "stream",
     "text": [
      "Mean Absolute Error: 2.010779494090475\n",
      "R-squared: 0.6896907040874107\n",
      "Mean Absolute Percentage Error (MAPE): 0.3470528299934249\n"
     ]
    }
   ],
   "source": [
    "print(f'Mean Absolute Error: {mae}')\n",
    "print(f'R-squared: {r2}')\n",
    "print(f'Mean Absolute Percentage Error (MAPE): {mape}')"
   ]
  },
  {
   "cell_type": "code",
   "execution_count": 32,
   "metadata": {},
   "outputs": [
    {
     "name": "stdout",
     "output_type": "stream",
     "text": [
      "INFO:tensorflow:Assets written to: checkpoint/ANN.model\\assets\n"
     ]
    },
    {
     "name": "stderr",
     "output_type": "stream",
     "text": [
      "INFO:tensorflow:Assets written to: checkpoint/ANN.model\\assets\n"
     ]
    }
   ],
   "source": [
    "model.save('checkpoint/ANN.model')\n",
    "model = keras.models.load_model('checkpoint/ANN.model')"
   ]
  }
 ],
 "metadata": {
  "kernelspec": {
   "display_name": "Python 3",
   "language": "python",
   "name": "python3"
  },
  "language_info": {
   "codemirror_mode": {
    "name": "ipython",
    "version": 3
   },
   "file_extension": ".py",
   "mimetype": "text/x-python",
   "name": "python",
   "nbconvert_exporter": "python",
   "pygments_lexer": "ipython3",
   "version": "3.10.4"
  }
 },
 "nbformat": 4,
 "nbformat_minor": 2
}
